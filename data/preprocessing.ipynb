{
 "cells": [
  {
   "cell_type": "code",
   "id": "52fc8eb7c3cc5369",
   "metadata": {
    "ExecuteTime": {
     "end_time": "2024-06-16T16:10:16.270835Z",
     "start_time": "2024-06-16T16:09:42.708270Z"
    }
   },
   "source": [
    "# from datasets import load_dataset\n",
    "# \n",
    "# datasets = load_dataset(\"squad\", split=\"train[:5000]\")\n",
    "\n",
    "from datasets import load_dataset\n",
    "\n",
    "# use name=\"sample-10BT\" to use the 10BT sample\n",
    "datasets = load_dataset(\n",
    "    \"HuggingFaceFW/fineweb-edu\", \n",
    "    name=\"sample-10BT\", \n",
    "    # split=\"train[:5000]\", \n",
    "    # streaming=True,\n",
    ")\n",
    "\n",
    "'''\n",
    "IterableDatasetDict({\n",
    "    train: IterableDataset({\n",
    "        features: ['text', 'id', 'dump', 'url', 'file_path', 'language', 'language_score', 'token_count', 'score', 'int_score'],\n",
    "        n_shards: 14\n",
    "    })\n",
    "})\n",
    "'''\n"
   ],
   "outputs": [
    {
     "data": {
      "text/plain": [
       "Resolving data files:   0%|          | 0/1630 [00:00<?, ?it/s]"
      ],
      "application/vnd.jupyter.widget-view+json": {
       "version_major": 2,
       "version_minor": 0,
       "model_id": "1d6b1cdfe22b4f43bf05513b7959ace8"
      }
     },
     "metadata": {},
     "output_type": "display_data"
    },
    {
     "data": {
      "text/plain": [
       "Loading dataset shards:   0%|          | 0/98 [00:00<?, ?it/s]"
      ],
      "application/vnd.jupyter.widget-view+json": {
       "version_major": 2,
       "version_minor": 0,
       "model_id": "4573b37e02364594ad29f7acf1f9a8a6"
      }
     },
     "metadata": {},
     "output_type": "display_data"
    },
    {
     "data": {
      "text/plain": [
       "\"\\nIterableDatasetDict({\\n    train: IterableDataset({\\n        features: ['text', 'id', 'dump', 'url', 'file_path', 'language', 'language_score', 'token_count', 'score', 'int_score'],\\n        n_shards: 14\\n    })\\n})\\n\""
      ]
     },
     "execution_count": 38,
     "metadata": {},
     "output_type": "execute_result"
    }
   ],
   "execution_count": 38
  },
  {
   "metadata": {
    "ExecuteTime": {
     "end_time": "2024-06-16T16:10:16.275604Z",
     "start_time": "2024-06-16T16:10:16.270835Z"
    }
   },
   "cell_type": "code",
   "source": "print(datasets)",
   "id": "ce12b13ec83d8fcf",
   "outputs": [
    {
     "name": "stdout",
     "output_type": "stream",
     "text": [
      "DatasetDict({\n",
      "    train: Dataset({\n",
      "        features: ['text', 'id', 'dump', 'url', 'file_path', 'language', 'language_score', 'token_count', 'score', 'int_score'],\n",
      "        num_rows: 9672101\n",
      "    })\n",
      "})\n"
     ]
    }
   ],
   "execution_count": 39
  },
  {
   "metadata": {
    "ExecuteTime": {
     "end_time": "2024-06-16T16:10:16.285903Z",
     "start_time": "2024-06-16T16:10:16.275604Z"
    }
   },
   "cell_type": "code",
   "source": [
    "from datasets import ClassLabel\n",
    "import random\n",
    "import pandas as pd\n",
    "from IPython.display import display, HTML\n",
    "\n",
    "def show_random_elements(data, num_examples=10):\n",
    "    assert num_examples <= len(data), \"Can't pick more elements than there are in the dataset.\"\n",
    "    picks = []\n",
    "    for _ in range(num_examples):\n",
    "        pick = random.randint(0, len(data)-1)\n",
    "        while pick in picks:\n",
    "            pick = random.randint(0, len(data)-1)\n",
    "        picks.append(pick)\n",
    "    \n",
    "    df = pd.DataFrame(data[picks])\n",
    "    for column, typ in data.features.items():\n",
    "        if isinstance(typ, ClassLabel):\n",
    "            df[column] = df[column].transform(lambda i: typ.names[i])\n",
    "    display(HTML(df.to_html()))"
   ],
   "id": "22702afc8ca693b7",
   "outputs": [],
   "execution_count": 40
  },
  {
   "metadata": {
    "ExecuteTime": {
     "end_time": "2024-06-16T16:10:16.318719Z",
     "start_time": "2024-06-16T16:10:16.285903Z"
    }
   },
   "cell_type": "code",
   "source": "show_random_elements(datasets['train'])",
   "id": "1fe1726a0923c199",
   "outputs": [
    {
     "data": {
      "text/plain": [
       "<IPython.core.display.HTML object>"
      ],
      "text/html": [
       "<table border=\"1\" class=\"dataframe\">\n",
       "  <thead>\n",
       "    <tr style=\"text-align: right;\">\n",
       "      <th></th>\n",
       "      <th>text</th>\n",
       "      <th>id</th>\n",
       "      <th>dump</th>\n",
       "      <th>url</th>\n",
       "      <th>file_path</th>\n",
       "      <th>language</th>\n",
       "      <th>language_score</th>\n",
       "      <th>token_count</th>\n",
       "      <th>score</th>\n",
       "      <th>int_score</th>\n",
       "    </tr>\n",
       "  </thead>\n",
       "  <tbody>\n",
       "    <tr>\n",
       "      <th>0</th>\n",
       "      <td>By Alastair Lawson\\n'Waziristan is a thoroughly dangerous area'\\nIn 1919, a young British army officer, Francis Stockdale, was deployed to the Waziristan area of British India.\\nThe title of his book, \"Walk Warily in Waziristan\" seems no less appropriate now than it did 90 years ago, because today the autonomous Pakistani tribal region of North and South Waziristan is the centre of militancy orchestrated by pro-Taleban and al-Qaeda militants.\\nIt is also an area where many believe the al-Qaeda leader, Osama Bin Laden, may be hiding after the September 2001 World Trade Centre attacks.\\nIt wasn't until the 1980s that Capt Stockdale's family published a handful of copies of the book, only a few of which survive. But because or renewed interest in the region, the family in the English county of Norfolk are considering reprinting it.\\n'Wait, watch and pounce'\\nThe book provides a fascinating account of what was regarded then - as it is today - as a thoroughly dangerous area.\\nOne of the main towns close to Waziristan is Tank. Capt Stockdale describes it as being \"the worst station in British India\".\\n\"It was known as 'Hell's door knocker' because in the summer the temperature would rise so high that a village nearby rejoiced in the highest temperature in the world - a modest 131 degrees in the shade.\\n\"But it was also an area where hostile tribesman waited, watched and pounced,\" he wrote.\\n\"My memories of Tank are characterised by sporadic outbreaks of rifle fire by night and spasmodic outbreaks of cholera during the day. The town fully deserved its poor reputation.\"\\nCapt Stockdale goes on to describe just how dangerous the \"hostile tribesmen\" were in the Wana, the main town of South Waziristan, when a sniper infiltrated a British camp.\\n\"Like all tribesmen in this area, he was a marvellous shot,\" Capt Stockdale wrote, \"and he killed the commanding officer with his first shot.\\n\"He killed or wounded 11 other men before his hiding place was discovered.\"\\nNinety years ago, it seemed that British troops in Waziristan faced the same kind of dangers as Pakistani troops in the region do today.\\nOnly a few copies of the book remain\\n\"One one occasion, tribesmen rolled down boulders in front of a military convoy - effectively cutting them off. I could hear the firing in the distance and there were lots of casualties.\"\\nGetting captured, it seemed, was not an option: \"It would result in death by torture, an activity which I was informed the tribal women folk used to luxuriate.\"\\nThe shortage of female company in these remote outposts of the British empire played heavily on officers and men alike.\\nCapt Stockdale describes the lucky escape of one soldier who took to writing passionate letters to his wife and his mistress from a British encampment in the region that was surrounded by tribesmen.\\n\"Waiting for a target, they got bored and fired a bullet at random into the camp. It removed the digit finger of the man's right hand as he was writing to the loves of his life.\\n\"That incident kept me on the straight and narrow path for many months to come - not that there were many opportunities in Waziristan to be tempted or led astray!\"\\nA book packed with colourful reminiscences, Capt Stockdale describes many of his brother officers.\\nThese included Whipples, who wore a monocle every time the bullets started flying and specialised in using camels to provide supplies of whisky and gin in remote areas.\\n\"The tribesmen got Whipples in the end and I guarantee the monocle was in when the last bullet hit him,\" he wrote.\\nBritish soldiers were impressed by the ingenuity of the tribesmen\\nHe also describes attempts by the Royal Flying Corps (RFC) to drop bombs on tribesmen encamped close to the border with Afghanistan.\\n\"Their bombs did not always explode upon hitting the earth and the tribesmen soon adapted themselves to shooting at flying targets. The pilots carried ransom papers, so if they were captured and returned to safety, the reward would be large.\"\\nSome of the unexploded bombs dropped by the RFC were \"collected by the tribesmen who used them to decorate their mud huts or houses\".\\nLocal fighters in the 1920s were as tough then as they are now.\\n\"We often used to ask ourselves, how could they survive so long living in a rocky area, with a film of earth capable of growing only scrub trees?\"\\nCapt Stockdale ended up serving two years in Waziristan and considered himself lucky to be returning home.\\n\"Many of my friends were killed, but I lived 60 years since then,\" he wrote.\\nCapt Stockdale - who was later promoted to be a major - died in 1989 aged 93.</td>\n",
       "      <td>&lt;urn:uuid:61be0f59-e638-46db-896c-6410555779b8&gt;</td>\n",
       "      <td>CC-MAIN-2013-20</td>\n",
       "      <td>http://news.bbc.co.uk/2/hi/south_asia/7325117.stm</td>\n",
       "      <td>s3://commoncrawl/crawl-data/CC-MAIN-2013-20/segments/1368706890813/warc/CC-MAIN-20130516122130-00084-ip-10-60-113-184.ec2.internal.warc.gz</td>\n",
       "      <td>en</td>\n",
       "      <td>0.981928</td>\n",
       "      <td>1028</td>\n",
       "      <td>2.609375</td>\n",
       "      <td>3</td>\n",
       "    </tr>\n",
       "    <tr>\n",
       "      <th>1</th>\n",
       "      <td>The library has been through many expansions through the 20th century to meet the demands of a growing student population. Iowa State had a new library in 1925, but as quickly as 1930 the collection was too large for the bookshelf space. In 1940, an off-site storage facility was built to handle some of the overflow that had been stored in the Memorial Union and the Engineering Exhibit Hall.\\nWhile the collection already exceeded the size of the library, there were other pressures put on the library space starting in the mid-century. The university experienced a great period of growth after WWII due to the GI Bill and the Cold War, when the government was eager to fund the scientific research done at Iowa State. This period of growth was exacerbated by the incoming Baby Boom students. All of these factors put great pressure on the amount of study space in the library.\\nTo address these issues, the first expansion opened in 1961. The new addition had 5 floors and added 52,000 square feet. One big innovation for this addition was open stacks, allowing students to browse the shelves and pick out books themselves. A glass rotunda was built for the new entrance on the south side of the building complete with staffed circulation desk to make sure materials did not make their way out of the library without being checked out.\\nEven brand new, the expanded library could only accommodate 75% of the 520,000 volume collection and did not contain the amount of study space recommended for the size of the student population. Tellingly, even as they were building the addition, it was referred to as the “First Addition”, which brings us, inevitably, to the Second Addition.\\nThis addition was started in 1967 and completed in 1969. This expansion more than doubled the space for storing books and for users to work.*\\nIn the 1969/70 school year, the library offered 7 courses. There were 4 undergraduate courses, each designed for students in different areas of study: home economics, sciences and humanities, engineering, and agriculture. Additionally, there were 3 courses, each aimed at different groups of graduate students.\\nBe sure to follow the blog to see the library further expand and get a name!\\n*Post written with the help of “A Short History of the Iowa State University Library 1858-2007” by Kevin D. Hill.</td>\n",
       "      <td>&lt;urn:uuid:3cd39113-91ed-4e9d-897a-93cc90715285&gt;</td>\n",
       "      <td>CC-MAIN-2018-05</td>\n",
       "      <td>https://isuspecialcollections.wordpress.com/2017/07/18/history-of-the-library-pt-3/</td>\n",
       "      <td>s3://commoncrawl/crawl-data/CC-MAIN-2018-05/segments/1516084887423.43/warc/CC-MAIN-20180118151122-20180118171122-00747.warc.gz</td>\n",
       "      <td>en</td>\n",
       "      <td>0.979244</td>\n",
       "      <td>472</td>\n",
       "      <td>2.734375</td>\n",
       "      <td>3</td>\n",
       "    </tr>\n",
       "    <tr>\n",
       "      <th>2</th>\n",
       "      <td>Electromagnetic Frequencies – EMF Facts\\nElectromagnetic Radiation (EMR)\\nElectromagnetic Radiation is caused by our electrical systems and is measured in Milligaus with a Gauss Meter up to 100Mg.\\nReadings over 4Mg are deemed dangerous to animals and humans.\\nSome appliances create EMF fields of up to 2 meters’ radius. Examples being fridges, CRT TV or PC/Laptop screen, Plasma and LED TV’s, bedside lamps, computers, meter box, and old power points that are worn or damaged.\\nIf the earth wire at the meter box is grounded to the buildings’ water pipe, which was common practice many years ago, then the pipe will emit an EMR field.\\nOverhead power lines create EMR fields, which vary per the amount of current running through them. An example of this being that there will be larger EMR fields in the middle of summer at 7 p.m. when the load of air-conditioning, cooking, washing and electronic entertainment is at its highest.\\nEMR also creates leaked or imprinted EMF fields. This means that an electrical appliance when turned off, still has an EMF field around it which needs to be dissipated with a strong source of programmed negative charge such as with the Geoclense Home and Workplace Harmonizer fitted.\\nRadio Frequency Fields (RF)\\nRF fields are caused by Wi/Fi and other outside influences such as:\\nWireless routers, PC modems, baby monitors, cordless phones, mobile phones, 2-way radios, microwave ovens.\\nSmart Meters create an RF field of approximately 1.5 meters around it. They send a communication back to the tower which is about 150 mm diameter.\\nDigital TV’s create an RF field up to 200 meters in front of the screen which is also a dissolvable (using the Geoclense) imprinted EMF field.\\nDigital clock radios create an RF field of up to .5 meters in front of the screen.\\nLarger outside influences are mobile phone towers, TV or radio broadcasting stations, and towers.\\nSome of the larger communication towers which have the Microwave drums attached can have a dangerous field of up to 400 meters away from the tower, as with the Bondi Junction tower in N.S.W.\\nEARTH MAGNETIC GRID LINES\\nEarth Magnetic Grid Lines are all standing waves (walls) of EMF which can only be harmonised not dissolved.\\nThe area where Grid Lines cross is known as a cube. The wider the Grid Line, the bigger the cube, and the more dangerous to life forms. For example, a person sleeping over a Benker Grid or a 400-meter Grid Crossing is at a much higher risk of cell damage and organ stress than having only a single Grid Line over them.\\nEarth Magnetic Grid Lines cannot be moved or dissipated like Death Imprints can be. Grids run north-south, east-west, to magnetic north. Nets run 45 degrees to north-south.\\nMinor: Hartman Grid – 300mm wide, occur every 3.5 meters. Curry Net – 300mm wide, occur every 3.5 meters.\\nMajor: Benker Grid – 1100mm wide, occur every 7 meters. 400 Meter Grid – 2.5 meters wide, occur every 400 meters\\nWater Veins &amp; Black Water\\nWater Veins are Earth Radiation EMF fields, which are usually between 350mm and 4 meters wide, however, they can vary in width.\\nWater Veins can run in any direction and are 2 degrees warmer than the ground either side of the vein. Cats like to sleep over water veins because they sense the increase in temperature. They are not drawn to them because of the noxious resonance.\\nSome Water Veins carry cancer-causing Radon Gas caused by interaction with radioactive minerals. Radon Gas is a big problem in the U.S.A. where there is a lot of radioactive material underground.\\nWater Veins can project from ground level to a height of around 1.2 meters. This means that in a multi-story building, people living or working above the ground floor are not affected by the presence of water veins in the ground.\\nThe groundwater lying just under the surface, along with the presence of radioactive matter creates what is called Black Water. Some people may suffer quite severe Geopathic Stress imprinting in the body, more so than from the charge of the radioactive matter in the ground.\\nCities such as Perth and Adelaide have large areas of Black Water due to the sandy soil and flat terrain and the strong presence of radioactive matter in the ground.\\nUranium &amp; Granite\\nUranium and Granite are radioactive minerals which occur naturally in the ground, virtually everywhere around the world. Uranium and Granite is decomposing matter and creates Gamma, which extends to around 40 meters above the ground. It has a strong positive charge, which causes Geopathic Stress in the body. In some areas, such as the Gold Coast in Queensland, coal, granite, and uranium can occur simultaneously.\\nStatistically, 99% of all properties worldwide surveyed with a “Google Earth” reading, or our “on-site” consultancy surveys, show that they have at least one toxic mineral in the ground.\\nAirborne Heavy Metal Contaminants\\nAnother energetic influence over a property may also be from airborne pollutants such as heavy metals. The heavy metals carry a positive charge which can easily be read as causing organ stress like what earth radiation of EMF would. These metals are Cesium 134 &amp; 137 and Strontium 90, which come from nuclear power plants and mercury dust from coal-fired power plants. Although we don’t have nuclear power in Australia, CHEMTRAILS do contain Cesium and Strontium.\\nCountries which have nuclear power have a strong presence of these heavy metals in the air and it is very easily read using Google Earth. France has the greatest number of nuclear power plants in Europe and America also has many nuclear power plants.\\nHeavy metals are a health risk because they cause yeast overgrowth in the intestines, which leads to candida, especially in the lymph, which may lead to various tumours in the lymph glands and surrounding tissues, i.e. cancer.\\nOut-gassing is the release of toxic odors from materials such as new carpets, plastics, paints, chemicals such as petrol, chemical fertilizers etc. Besides having a toxic odor, out-gassing also creates a positive charge field. For example, a petrol station may create an imprinted field from the petrol in the tanks underground for up to 60 meters away from it.\\nOut-gassing odors are also a xenoestrogen or a hormone cell disruptor. This is another reason why women’s hormone health experts are always expressing caution about the dangers of exposure to xenoestrogens.\\nDeath Imprints &amp; Spirit Lines\\nA Death Imprint is an imprinted electromagnetic field, sometimes known as a Bioplasmic field of dense etheric matter of Astral Fragments, created when either a person or animal has passed away.\\nFrom the death imprint, a Spirit Line occurs radiating out either side of the imprint, and the Fragmented Astral energy can spread to the boundaries of a property or even greater.\\nThe Astral Fragments can be referred to as an “Entity”, due to its counter-conscious behaviour. These Fragments can effect humans and animals as they can lodge or imprint into the etheric fields of a living being.\\nSpirit Lines are 200mm wide and are evidence of Astral Fragmentation in a building.\\nDeath imprints are the energy fields left after the death of an animal or human and are the actual size of the being that died in that place.\\nThere are no death imprints in Australia over 200 years old. This is because the Australian Aboriginals, who were masters of the energies of the land, knew how to dissolve the imprints. However, when the Europeans arrived and started to massacre the Aboriginals, the death imprints were not able to be dissolved.</td>\n",
       "      <td>&lt;urn:uuid:39106014-9375-46a9-a872-096b0a105626&gt;</td>\n",
       "      <td>CC-MAIN-2020-40</td>\n",
       "      <td>https://www.phoneradiationchips.com.au/pages/emf-facts</td>\n",
       "      <td>s3://commoncrawl/crawl-data/CC-MAIN-2020-40/segments/1600400196999.30/warc/CC-MAIN-20200920062737-20200920092737-00096.warc.gz</td>\n",
       "      <td>en</td>\n",
       "      <td>0.942446</td>\n",
       "      <td>1686</td>\n",
       "      <td>3.625000</td>\n",
       "      <td>4</td>\n",
       "    </tr>\n",
       "    <tr>\n",
       "      <th>3</th>\n",
       "      <td>B.Tech Sample Paper\\nTime:3 hours Maximum Marks:100\\nNote: Attempt any five questions.Each question carry 20 marks.\\nQ 1. Explain the following terms with the help of suitable examples:\\n(i) Sampling Process\\n(ii) Aperture Effect\\n(iii) Noise in PCM\\n(iv) Delta sigma Modulation\\nAns: (i) A continuous time signal may be completely represented in its samples and recovered back if the sampling frequency is less or equal to 2f.\\n(ii) The high frequency roll off acts like a low pass filter and thus attenuates the upper portion of the message signal spectrum.\\n(iii) The performance of it is influenced by channel noise and quantizing noise.\\n(iv) It means that when the signal is transmitted in delta modulation, the signal gets distorted with the noise.\\nQ 2. What do you mean by correlative level coding? Discuss the duo-binary signaling, its modified form and generalized form of correlative level coding.\\nAns: If inter symbol inference in a controlled manner is added to the transmitted signal, then it is possible to achieve a signaling rate equal to the Nyquist rate of 2W symbol per second.\\nQ 3. Explain BPSK. Calculate the error probability for BPSK.\\nAns: BPSK stands for binary phase shift keying.the input binary sequence of 0 and 1 are converted into non return to zero bit. the modulated is obtained from the product modulator.\\nQ 4. What is quantization noise? Give difference between uniform and non-uniform type of quantization noise.\\nAns: It is the process of transforming the sample amplitude of a message signal at a time into a discrete amplitude taken from a finite set of possible amplitude.\\nQ 5. (a) Explain the receiver of QPSK. (10 Marks)\\n(b) Explain Delta Modulation. (10 Marks)\\nAns: (a) In QPSK, the phase of the carrier takes on one of four equally spaced values. It has a two dimensional signal constellation.\\n(b) A delta modulation scheme the uses integration at its input is called delta sigma modulation. The message signal is defined in its continuous form.\\nQ 6. Discuss the following in brief:\\n(a) Code Division Multiplexing. (10 Marks)\\n(b) Time Division Multiplexing. (10 Marks)\\nAns: (a) In code division multiplexing the different codes are being given to each user to transmit the data.\\n(b) In time division multiplexing the user are given different time slots in which they will have to transmit their data.\\nQ 7. Briefly explain Tapped Delay Line Equalization and Adaptive Equalization.\\nAns: In this the symbol rate of the tapped delay line is an image of multiple hop rate. This will have output wave to a mixer that consist of a multiplier followed by a band pass filter.\\nQ 8.(a) What do you mean by Inter Symbol Interference? (10 Marks)\\n(b) Explain properties of matched filter with explanation energy to noise spectral density ratio (10 Marks)\\nAns: (a) symbol inference means that the signals get mixed with the noise in the air and will cause problems.\\n(b) This has the following properties:</td>\n",
       "      <td>&lt;urn:uuid:83a7bac2-8d5c-41ae-9a69-ff12f8de4e47&gt;</td>\n",
       "      <td>CC-MAIN-2021-25</td>\n",
       "      <td>https://blog.oureducation.in/sample-paper-of-digital-communication/</td>\n",
       "      <td>s3://commoncrawl/crawl-data/CC-MAIN-2021-25/segments/1623488273983.63/warc/CC-MAIN-20210621120456-20210621150456-00532.warc.gz</td>\n",
       "      <td>en</td>\n",
       "      <td>0.887370</td>\n",
       "      <td>698</td>\n",
       "      <td>3.187500</td>\n",
       "      <td>3</td>\n",
       "    </tr>\n",
       "    <tr>\n",
       "      <th>4</th>\n",
       "      <td>Men who start a regular exercise routine with they are 50 years old may be able to lengthen their life span by more than two years, according to a new study.\\nResearchers have found exercising may have the same beneficial effect on one's life as quitting smoking in middle age, HealthDay News reports.\\nDr. Karl Michaëlsson, the study's lead author, suggested the findings presented more evidence that \"it's not too late for a man after the age of 50 years to invest in health and longevity by becoming more physically active.\"\\n\"Everyone knows that smoking is hazardous for health and increases mortality risk, but it is not generally known that low physical activity has a similar impact on mortality risk as smoking,\" Michaelsson said.\\nA total of 2,205 men who began the study when they were 50 years old were examined and surveyed as they hit four ages in their life: 60, 70, 77 and 82.\\nEach time, the survey questioned their level of physical activity, weight, blood pressure and smoking habits.\\nResearchers found men who exercised the most when they were 50 lived, on average, 2.3 years longer than men who didn't exercise as much.</td>\n",
       "      <td>&lt;urn:uuid:7bc0608c-6d11-4a03-ac4e-1dbfde9e3e8a&gt;</td>\n",
       "      <td>CC-MAIN-2018-47</td>\n",
       "      <td>https://www.retirementhomes.com/node/246875</td>\n",
       "      <td>s3://commoncrawl/crawl-data/CC-MAIN-2018-47/segments/1542039742779.14/warc/CC-MAIN-20181115141220-20181115163220-00535.warc.gz</td>\n",
       "      <td>en</td>\n",
       "      <td>0.984490</td>\n",
       "      <td>240</td>\n",
       "      <td>2.625000</td>\n",
       "      <td>3</td>\n",
       "    </tr>\n",
       "    <tr>\n",
       "      <th>5</th>\n",
       "      <td>A problem with the current generation of silicon solar cells is their relatively low efficiency at converting solar energy into electricity. The best silicon solar cells in the lab are about 26% efficient while commercial cells are about 15%. That means bigger systems are necessary to produce a given amount of electricity and bigger systems mean higher costs.\\nThat has researchers looking for new ways to raise efficiency and decrease costs. One idea that could boost efficiency by as much as 50% is a tandem structure that stacks two kinds of cells on top of each other, each using different, complementary parts of the solar spectrum to produce power.\\nResearchers have recently started looking at hybrid organic-inorganic perovskite materials as a good tandem partner for silicon cells. Perovskite cells have efficiency rates nearing 25%, have a complementary bandgap, can be very thin (just a millionth of meter), and can easily be deposited on silicon. But the hybrid perovskite solar cells break down when exposed to high temperatures.\\nThat's a problem for solar arrays placed where the sunshine is — such as hot, dry deserts. Ambient temperatures in such places can hit 120 to 130 °F and solar cell temperatures can hit 200 °F.\\nEngineers have found a way to take advantage of perovskite's useful properties while stabilizing the cells at high temperatures. First, the engineers tweaked the makeup of the perovskite material, doing away with organic components in the material — particularly cations, materials with extra protons and a positive charge — and substituted inorganic materials such as cesium. That made the material stable at higher temperatures.\\nThey also developed a fabrication technique that builds the perovskite material one thin layer — just a few billionths of a meter — at a time. This vapor deposition technique is consistent, leaves no contaminants, and is already used in other industries, so it can be scaled up for commercial production.\\nThe resulting perovskite solar cells showed no thermal degradation, even at 390 °F for more than three days — temperatures far more than what the solar cell would have to endure in real-world environments. The new inorganic perovskite solar cells have a photoconversion efficiency of 11.8%.\\nThe engineers replaced the iodine common in perovskite materials with bromine. That made the cells much less sensitive to moisture, solving another problem with standard hybrid perovskites. But that substitution changed the cells’ properties, reducing efficiency and how well they work in tandem with silicon cells.</td>\n",
       "      <td>&lt;urn:uuid:ae56e387-e721-41d0-8c7e-d169decc7db6&gt;</td>\n",
       "      <td>CC-MAIN-2020-45</td>\n",
       "      <td>https://www.techbriefs.com/component/content/article/tb/pub/techbriefs/energy/37826?m=806</td>\n",
       "      <td>s3://commoncrawl/crawl-data/CC-MAIN-2020-45/segments/1603107894759.37/warc/CC-MAIN-20201027195832-20201027225832-00324.warc.gz</td>\n",
       "      <td>en</td>\n",
       "      <td>0.915186</td>\n",
       "      <td>514</td>\n",
       "      <td>4.187500</td>\n",
       "      <td>4</td>\n",
       "    </tr>\n",
       "    <tr>\n",
       "      <th>6</th>\n",
       "      <td>Like most co-operatives credit unions began because the needs of people were not being met. During this time, Europeans were suffering from the effect of the Napoleonic wars, drought, famine, and resettlement from farms to city slums where they earned low wages in the new factories of the day. Moneylenders kept people in debt from generation to generation, causing families to lose their possessions and their land.\\nMany people played a significant role in the early years of the credit movement. One was a German, Hermann Schultz-Delitzsch, establishing 103 of these ‘people’s banks’ by 1859 in two Provinces of Germany. Another German, Frederick Wilhelm Raiffeisen, a wine merchant and mayor of Flammersfield facing the severe economic conditions of the time in Europe tried to use charity to alleviate the situation for the poor citizens. When this effort failed he decided to organise people on a business-like basis and give them the opportunity to work to help themselves. His first ‘self-help’ society was formed in 1849. These organisations became known as Reiffeisenkassen and by 1888 they had joined into regional organisations with a Central organisation that served as a clearing and liquidity manager.\\nLuigi Luzzatti, an Italian credit union pioneer, started with a chair, a table, £20 of his own money and £120 from interested friends. His office was the pavement in Milan and his organisation provided self-help to farmers and labourers. He also got the support of the church that gave great impetus to the co-operative movement in the Italian rural areas.\\nIn the late 1800s and early 1900s in North America credit was an integral part of the settlers lifestyle, and with credit came unscrupulous moneylenders. Laws were passed that called for imprisonment for debt. People could go to jail for debts as low as 2 cents.\\nEventually, there were individuals who called for changes. The first credit union was started in 1900 in Levis, Quebec. Over the next 60 years the world saw significant growth of credit unions in Canada, America, Australia, and Ireland.\\nCredit Union membership presently across the world is over 118 million members in 85 countries. The most successful credit unions are in the advanced English-speaking countries.\\nIn Ireland, 50% of the population belong to a credit union, in America and Australia, the figure is around 30%. Credit unions are also growing fast in Eastern Europe, parts of South America, Africa and the Far East.\\nCredit unions originated out of the European co-operative tradition. A unique design evolved in North America and spread throughout the globe and to Britain in the 1970’s.\\nCredit unions took some time to take off in England, Scotland and Wales. People who had seen the idea work in Ireland and the Caribbean were amongst the first British credit union pioneers, as were people who heard about the idea from relatives in Canada and elsewhere.</td>\n",
       "      <td>&lt;urn:uuid:76e2df59-9935-41e0-93be-9d4a7ddc2e30&gt;</td>\n",
       "      <td>CC-MAIN-2018-30</td>\n",
       "      <td>http://dumbartoncreditunion.org/content.asp?section=49</td>\n",
       "      <td>s3://commoncrawl/crawl-data/CC-MAIN-2018-30/segments/1531676589634.23/warc/CC-MAIN-20180717090227-20180717110227-00033.warc.gz</td>\n",
       "      <td>en</td>\n",
       "      <td>0.983658</td>\n",
       "      <td>599</td>\n",
       "      <td>3.453125</td>\n",
       "      <td>3</td>\n",
       "    </tr>\n",
       "    <tr>\n",
       "      <th>7</th>\n",
       "      <td>Mild steel coefficient of thermal expansion. Steel Pipes 2022-10-29\\nMild steel coefficient of thermal expansion Rating:\\nThe coefficient of thermal expansion (CTE) is a measure of how much a material expands or contracts in response to changes in temperature. It is a crucial property for many engineering applications, as it determines how materials behave under different temperature conditions.\\nMild steel, also known as low carbon steel, is a commonly used material in engineering and construction due to its strength and ductility. It is an alloy made up of iron and small amounts of carbon, typically less than 0.3%. Mild steel has a relatively low CTE compared to other materials, making it well-suited for applications where dimensional stability is important.\\nThe CTE of mild steel is typically around 12 x 10^-6 K^-1, which means that for every 1 K increase in temperature, the material will expand by approximately 12 x 10^-6 meters per meter of length. This value can vary slightly depending on the exact composition of the steel and the specific temperature range being considered.\\nOne important application of the CTE of mild steel is in the design of bridges and other structures. As temperatures fluctuate, the expansion and contraction of the steel can cause stresses on the structure that can potentially lead to damage. Engineers must take the CTE of the steel into account when designing these structures to ensure that they can withstand these temperature-induced stresses.\\nIn addition to its use in construction, mild steel is also commonly used in the manufacture of machine parts and other equipment. Its low CTE makes it well-suited for use in precision components that must maintain their dimensions accurately over a range of temperatures.\\nOverall, the coefficient of thermal expansion is an important property of mild steel that must be taken into account in a variety of engineering applications. Its relatively low CTE makes it a useful material for applications where dimensional stability is important, such as in the construction of bridges and the manufacture of precision components.\\nWhat Is Coefficient Of Thermal Expansion (CTE) &amp; Calculation In Welding?\\nA scientist using the Rigaku Differential Thermomechanical Analyzer TMA , offered in the USA by C-Therm Technologies. The expansion rate increases as the temperature rises. Coefficient of linear thermal expansion is designated by the symbol α alpha. The thermal expansion is often affected by the cooling time during processing. .\\nWhat is thermal expansion coefficient for steel in Celsius?\\nWhat is thermal conductivity and its unit? The combination of high expansion and low thermal conductivity means that precautions must be taken to avoid adverse effects. . . Does copper expand with heat? ASTM E289 provides a standard method for linear thermal expansion of rigid solids with interferometry that is applicable from —150 to 700 °C —240 to 1290 °F. This thermal energy is directly responsible for change in the materials dimensions due to resultant coefficient of thermal expansion. ASTM E831 and ISO 11359-2 — These methods are applicable applicable to solid materials that exhibit sufficient rigidity over the test temperature range. Carbon steels are all about the same, all in the range of about 6.\\nOptical imaging can also be used at extreme temperatures. Test specimens taken at midradius. The phenomenon where metal exhibits this special feature is known as the Coefficient of Thermal Expansion of materials. This movement has many common uses including: thermostats to control temperature, oven thermometers to measure temperature, and switches to regulate toasters. The combination of high expansion and low thermal conductivity means that precautions must be taken to avoid adverse effects. . ASTM AISI SAE 1018 hot rolled steel is also known as 1018 HR, and has good toughness, strength, ductility, formability, weldability and workability.\\nIn differential TMA, the reference material is run at the same time as the sample, so you can streamline your testing. Excretion does only in the range of up to 100 ° C, where the strength of some steels doped increases. What happens to steel pipe at 100 degrees Celsius? These linear thermal expansion coefficients are room temperature values of metals. What is the thermal conductivity of steel? All sizes tempered at 650 °C 1200 °F. Does stainless steel have a high thermal expansion? Applications include: The thermal expansion difference develops internal stresses and stress concentrations in the polymer, which allows premature failure to occur.\\nWhat's the coefficient of thermal expansion for steel?\\n? The coefficient of thermal expansion for carbon steel is 6. In a book for heating and water services design, I saw a figure for mild steel listed as 12 x 10-6. The answer to this question is not as straightforward as one might think. . Thermal expansion is often used to predict shrinkage in injection molded parts.\\nCoefficient of Linear Thermal Expansion (CLTE): Formula &amp; Values\\nBefore working with any material, users should contact material suppliers in order to receive specific, complete and detailed information about the material they are considering. Length, surface area and volume will increase with temperature. This coefficient is called the coefficient of thermal expansion and is used to predict the growth of materials in response to a known temperature change. Two; I'm a natural. If I succeed I'll pull up this thread and share it.\\nPart of the data and information contained in the Polymer Selector are genericised based on commercial literature provided by polymer suppliers and other parts are coming from assessments of our experts. Does steel have high thermal conductivity? Sliding spur gear, 67 mm outside diameter Oil at 150 °C 300 °F ; tempered at 260 °C 500 °F for 1 h. The exact definition varies, depending on whether it is specified at a precise temperature true coefficient of thermal expansion or a-bar or over a temperature range mean coefficient of thermal expansion or a. . Sounds imature I spose. Aluminium has an elastic modulus of 70 GPa. Ductility is the capability of the steel to be stretched out without becoming more brittle or weaker in the process.\\nHowever, seems there are some slightly different numbers for PIPE, apparently linear expansion: They list 7. The most common problem in dissimilar metals welding DMW is because of the differences in the physical properties mainly the coefficient of thermal expansion and heat conductivity of the base materials as well as on certain levels of metallurgical incompatibility. Here , the predominately austenitic base cladding will have much higher thermal expansion compared to the carbon steel base metal. How much does steel expand at 100 degrees? For that I appreciate your patience. Cookies are only used in the browser to improve user experience.\\nWhat is Coefficient of Thermal Expansion (CTE)? How Do I Measure It?</td>\n",
       "      <td>&lt;urn:uuid:f05c06fe-7da2-4079-9c33-29ca32babcb5&gt;</td>\n",
       "      <td>CC-MAIN-2023-40</td>\n",
       "      <td>http://childhealthpolicy.vumc.org/kerusiry31178.html</td>\n",
       "      <td>s3://commoncrawl/crawl-data/CC-MAIN-2023-40/segments/1695233506429.78/warc/CC-MAIN-20230922234442-20230923024442-00422.warc.gz</td>\n",
       "      <td>en</td>\n",
       "      <td>0.911274</td>\n",
       "      <td>1603</td>\n",
       "      <td>3.390625</td>\n",
       "      <td>3</td>\n",
       "    </tr>\n",
       "    <tr>\n",
       "      <th>8</th>\n",
       "      <td>Current Research Articles\\nThe focus of this article will be HERBICIDE USE AND GRAZING EQUINE.Herbicide use around the grazing horse is a potential for numerous pathological changes.(Babka,Masters Dissertation 2014,University of Edinburgh).There are about 70 different categories of herbicides used today with numerous commercial types in each category(Wood,2001).Each has a grazing restriction time period as demonstrated on the label of each herbicide.Most such as Roundup and others usually require a period of about 7 to 15 days before a horse can be put back on the field to graze.However,it was discovered that in loam soil the herbicides active ingredient can be detected in soil up to 180 days after application.This has the potential of augmenting the soils micro and macro nutrient levels as well as the soil Ph.In addition under varying conditions of moisture,the potential for development of fungus in the soil exists after herbicide application.Other changes in the soil after herbicide application was noted in the cation exchange capacity and soil organic matter content . Lowering the cation exchange capacity can result in loss of soil fertility and its ability to hold nutrients such as calcium,magnesium ,and potassium.In addition lowering the organic matter content can decrease the ability of soil hold water and nutrients as well and lower the Ph buffer level.(Curran,W.2014).These changes can effect the horses ability to graze on quality fields and may lead to such conditions as glutteral pouch mycosis,hoof wall integrity and herbicide poisoning.It is important for the equine owner to do a soil test and decide if a herbicide has to be used on the grazing pasture. References:\\nBabka,April.(2014):Masters Dissertation,.University of Edinburgh,Scotland.\\nWood,A..(2001):Compendium of pesticides common names.Chem Control database.London.\\nCurran,W.(2014)Persistance of herbicides in soil.Weed Science.vol 10 pg 233.\\nBarberis,C(2013).Roundup causes growth of deadly fungal toxins. Lab Evidence.\\nBlasioli,S.(2011)The fate of herbicides in soil.Dept.of agrienvironmental science.Jounal of agrichemical and food chemistry.vol 50 pg 157.\\nRalston,S.(2011) Nuritional requirements for horses.Merk vet manual ed. 10 pg 2049.</td>\n",
       "      <td>&lt;urn:uuid:c1f8e02e-9d98-4403-8a15-e5163f0c80a9&gt;</td>\n",
       "      <td>CC-MAIN-2019-09</td>\n",
       "      <td>http://www.sternenlitfarmsllc.com/blank2.html</td>\n",
       "      <td>s3://commoncrawl/crawl-data/CC-MAIN-2019-09/segments/1550247481428.19/warc/CC-MAIN-20190217010854-20190217032854-00603.warc.gz</td>\n",
       "      <td>en</td>\n",
       "      <td>0.859461</td>\n",
       "      <td>506</td>\n",
       "      <td>2.859375</td>\n",
       "      <td>3</td>\n",
       "    </tr>\n",
       "    <tr>\n",
       "      <th>9</th>\n",
       "      <td>DSLR Basics Day 1 - exposure and aperture control\\nA week to improve your digital photography: Day 1 Exposure and Aperture\\nPick up your camera, check the battery and memory cards. If you need to, format and charge...\\nLens: Manual Focus\\nFind your aperture control function, on most dslr’s you’ll find it at the front of the camera near to the capture button.\\nHave a look through the viewfinder or screen, you should see a line, if it doesn’t appear in the viewfinder check the manual and screen options.\\nThe point you see on the line is exposure, if it’s above the centrepoint, your image will be overexposed and if it’s under, your image will be… you got it, underexposed.\\nIf you’re over or under, you will want to change the aperture, this can be done by turning the aperture control function.\\nNow move around, find an area of darker light, focus your lens on a point and notice where the exposure disappears, adjust the aperture until you make it back to the midpoint.\\nYou may notice a little number next to the line, on most dslr’s this will be your shutter speed and the value is normally the fraction at which the shutter moves per second. So if the value is low, it means that there is less light coming in through the lens and the shutter speed will be slow and you may need a tripod. Whereas if it’s a high value it indicates that the lens is letting a lot of light in and the shutter speed will be fast.\\nFor this example, the camera is telling me that it will capture in these conditions at a 60th of a second but the exposure will be under exposed.\\nWhereas looking at this view the shutter speed is a 20th of a second at a neutral exposure.\\nPatriciaSnook // WonderingWeddings // Twitter // Flickr // BlogLovin // Formspring // Facebook // Pinterest // Instagram // Houzz //</td>\n",
       "      <td>&lt;urn:uuid:c9998b2f-d0b2-4d67-b53c-d1c0b89b31e8&gt;</td>\n",
       "      <td>CC-MAIN-2017-43</td>\n",
       "      <td>http://www.awonderingstar.com/aws/onderingstar.com/2014/01/dslr-basics-day-1-exposure-and-aperture.html</td>\n",
       "      <td>s3://commoncrawl/crawl-data/CC-MAIN-2017-43/segments/1508187823114.39/warc/CC-MAIN-20171018195607-20171018215607-00790.warc.gz</td>\n",
       "      <td>en</td>\n",
       "      <td>0.851528</td>\n",
       "      <td>426</td>\n",
       "      <td>2.671875</td>\n",
       "      <td>3</td>\n",
       "    </tr>\n",
       "  </tbody>\n",
       "</table>"
      ]
     },
     "metadata": {},
     "output_type": "display_data"
    }
   ],
   "execution_count": 41
  },
  {
   "metadata": {
    "ExecuteTime": {
     "end_time": "2024-06-16T16:10:16.783466Z",
     "start_time": "2024-06-16T16:10:16.318719Z"
    }
   },
   "cell_type": "code",
   "source": [
    "from transformers import AutoTokenizer\n",
    "from functools import partial\n",
    "\n",
    "model_checkpoint = \"Qwen/Qwen2-0.5B-Instruct\"\n",
    "tokenizer = AutoTokenizer.from_pretrained(model_checkpoint, use_fast=True)\n",
    "\n",
    "def tokenize_function(examples, tokenizer):\n",
    "    return tokenizer(examples[\"text\"])"
   ],
   "id": "c71b44a2c1ac2036",
   "outputs": [
    {
     "name": "stderr",
     "output_type": "stream",
     "text": [
      "Special tokens have been added in the vocabulary, make sure the associated word embeddings are fine-tuned or trained.\n"
     ]
    }
   ],
   "execution_count": 42
  },
  {
   "metadata": {
    "ExecuteTime": {
     "start_time": "2024-06-16T16:10:18.568508Z"
    }
   },
   "cell_type": "code",
   "source": "tokenized_datasets = datasets.map(partial(tokenize_function, tokenizer=tokenizer), batched=True, num_proc=12, remove_columns=[\"text\"])",
   "id": "4a4cd4cf99317d5c",
   "outputs": [
    {
     "data": {
      "text/plain": [
       "Map (num_proc=4):   0%|          | 0/9672101 [00:00<?, ? examples/s]"
      ],
      "application/vnd.jupyter.widget-view+json": {
       "version_major": 2,
       "version_minor": 0,
       "model_id": "7a66292d88294c50ba5cc51fd6f6d1ed"
      }
     },
     "metadata": {},
     "output_type": "display_data"
    }
   ],
   "execution_count": null
  },
  {
   "metadata": {},
   "cell_type": "code",
   "source": "tokenized_datasets[\"train\"][1]",
   "id": "922deecd013fd0c3",
   "outputs": [],
   "execution_count": null
  },
  {
   "metadata": {},
   "cell_type": "code",
   "source": "block_size = 128",
   "id": "3a5ac452b78f99ed",
   "outputs": [],
   "execution_count": null
  },
  {
   "metadata": {},
   "cell_type": "code",
   "source": [
    "def group_texts(examples):\n",
    "    # Concatenate all texts.\n",
    "    concatenated_examples = {k: sum(examples[k], []) for k in examples.keys()}\n",
    "    total_length = len(concatenated_examples[list(examples.keys())[0]])\n",
    "    # We drop the small remainder, we could add padding if the model supported it instead of this drop, you can\n",
    "        # customize this part to your needs.\n",
    "    total_length = (total_length // block_size) * block_size\n",
    "    # Split by chunks of max_len.\n",
    "    result = {\n",
    "        k: [t[i : i + block_size] for i in range(0, total_length, block_size)]\n",
    "        for k, t in concatenated_examples.items()\n",
    "    }\n",
    "    result[\"labels\"] = result[\"input_ids\"].copy()\n",
    "    return result"
   ],
   "id": "1a865b1e631347fc",
   "outputs": [],
   "execution_count": null
  },
  {
   "metadata": {},
   "cell_type": "code",
   "source": [
    "lm_datasets = tokenized_datasets.map(\n",
    "    group_texts,\n",
    "    batched=True,\n",
    "    batch_size=1000,\n",
    "    num_proc=4,\n",
    ")"
   ],
   "id": "3cdb612889f44844",
   "outputs": [],
   "execution_count": null
  },
  {
   "metadata": {
    "ExecuteTime": {
     "end_time": "2024-06-16T15:14:29.715574Z",
     "start_time": "2024-06-16T15:14:29.700113Z"
    }
   },
   "cell_type": "code",
   "source": [
    "import torch\n",
    "from transformers import DataCollatorForLanguageModeling\n",
    "\n",
    "data_collator = DataCollatorForLanguageModeling(\n",
    "    tokenizer=tokenizer, \n",
    "    mlm=False,\n",
    ")\n",
    "\n",
    "train_dataloader = torch.utils.data.DataLoader(\n",
    "    lm_datasets[\"train\"], \n",
    "    shuffle=True, \n",
    "    batch_size=8, \n",
    "    collate_fn=data_collator\n",
    ")"
   ],
   "id": "15d645615a934bc0",
   "outputs": [],
   "execution_count": 33
  },
  {
   "metadata": {},
   "cell_type": "code",
   "outputs": [
    {
     "ename": "UnicodeEncodeError",
     "evalue": "'gbk' codec can't encode character '\\u2022' in position 2417: illegal multibyte sequence",
     "output_type": "error",
     "traceback": [
      "\u001B[1;31m---------------------------------------------------------------------------\u001B[0m",
      "\u001B[1;31mRemoteTraceback\u001B[0m                           Traceback (most recent call last)",
      "\u001B[1;31mRemoteTraceback\u001B[0m: \n\"\"\"\nTraceback (most recent call last):\n  File \"C:\\Users\\fzkuj\\anaconda3\\envs\\memory\\Lib\\site-packages\\multiprocess\\pool.py\", line 125, in worker\n    result = (True, func(*args, **kwds))\n                    ^^^^^^^^^^^^^^^^^^^\n  File \"C:\\Users\\fzkuj\\anaconda3\\envs\\memory\\Lib\\site-packages\\datatrove\\executor\\local.py\", line 74, in _launch_run_for_rank\n    return self._run_for_rank(rank, local_rank)\n           ^^^^^^^^^^^^^^^^^^^^^^^^^^^^^^^^^^^^\n  File \"C:\\Users\\fzkuj\\anaconda3\\envs\\memory\\Lib\\site-packages\\datatrove\\executor\\base.py\", line 96, in _run_for_rank\n    raise e\n  File \"C:\\Users\\fzkuj\\anaconda3\\envs\\memory\\Lib\\site-packages\\datatrove\\executor\\base.py\", line 83, in _run_for_rank\n    deque(pipelined_data, maxlen=0)\n  File \"C:\\Users\\fzkuj\\anaconda3\\envs\\memory\\Lib\\site-packages\\datatrove\\pipeline\\writers\\disk_base.py\", line 175, in run\n    self.write(document, rank)\n  File \"C:\\Users\\fzkuj\\anaconda3\\envs\\memory\\Lib\\site-packages\\datatrove\\pipeline\\writers\\disk_base.py\", line 156, in write\n    self._write(self.adapter(document), self.output_mg.get_file(output_filename), original_name)\n  File \"C:\\Users\\fzkuj\\anaconda3\\envs\\memory\\Lib\\site-packages\\datatrove\\pipeline\\writers\\jsonl.py\", line 31, in _write\n    file_handler.write(json.dumps(document, ensure_ascii=False) + \"\\n\")\nUnicodeEncodeError: 'gbk' codec can't encode character '\\u2022' in position 2417: illegal multibyte sequence\n\"\"\"",
      "\nThe above exception was the direct cause of the following exception:\n",
      "\u001B[1;31mUnicodeEncodeError\u001B[0m                        Traceback (most recent call last)",
      "Cell \u001B[1;32mIn[1], line 18\u001B[0m\n\u001B[0;32m      4\u001B[0m \u001B[38;5;28;01mfrom\u001B[39;00m \u001B[38;5;21;01mdatatrove\u001B[39;00m\u001B[38;5;21;01m.\u001B[39;00m\u001B[38;5;21;01mpipeline\u001B[39;00m\u001B[38;5;21;01m.\u001B[39;00m\u001B[38;5;21;01mwriters\u001B[39;00m \u001B[38;5;28;01mimport\u001B[39;00m JsonlWriter\n\u001B[0;32m      6\u001B[0m pipeline_exec \u001B[38;5;241m=\u001B[39m LocalPipelineExecutor(\n\u001B[0;32m      7\u001B[0m     pipeline\u001B[38;5;241m=\u001B[39m[\n\u001B[0;32m      8\u001B[0m         \u001B[38;5;66;03m# replace \"CC-MAIN-2024-10\" with \"sample/100BT\" to use the 100BT sample\u001B[39;00m\n\u001B[1;32m   (...)\u001B[0m\n\u001B[0;32m     16\u001B[0m     start_method\u001B[38;5;241m=\u001B[39m\u001B[38;5;124m'\u001B[39m\u001B[38;5;124mspawn\u001B[39m\u001B[38;5;124m'\u001B[39m  \u001B[38;5;66;03m# Windows上使用 'spawn' 方法\u001B[39;00m\n\u001B[0;32m     17\u001B[0m )\n\u001B[1;32m---> 18\u001B[0m pipeline_exec\u001B[38;5;241m.\u001B[39mrun()\n",
      "File \u001B[1;32m~\\anaconda3\\envs\\memory\\Lib\\site-packages\\datatrove\\executor\\local.py:131\u001B[0m, in \u001B[0;36mLocalPipelineExecutor.run\u001B[1;34m(self)\u001B[0m\n\u001B[0;32m    129\u001B[0m     ctx \u001B[38;5;241m=\u001B[39m multiprocess\u001B[38;5;241m.\u001B[39mget_context(\u001B[38;5;28mself\u001B[39m\u001B[38;5;241m.\u001B[39mstart_method)\n\u001B[0;32m    130\u001B[0m     \u001B[38;5;28;01mwith\u001B[39;00m ctx\u001B[38;5;241m.\u001B[39mPool(\u001B[38;5;28mself\u001B[39m\u001B[38;5;241m.\u001B[39mworkers) \u001B[38;5;28;01mas\u001B[39;00m pool:\n\u001B[1;32m--> 131\u001B[0m         stats \u001B[38;5;241m=\u001B[39m \u001B[38;5;28mlist\u001B[39m(\n\u001B[0;32m    132\u001B[0m             pool\u001B[38;5;241m.\u001B[39mimap_unordered(\n\u001B[0;32m    133\u001B[0m                 partial(\n\u001B[0;32m    134\u001B[0m                     \u001B[38;5;28mself\u001B[39m\u001B[38;5;241m.\u001B[39m_launch_run_for_rank,\n\u001B[0;32m    135\u001B[0m                     ranks_q\u001B[38;5;241m=\u001B[39mranks_q,\n\u001B[0;32m    136\u001B[0m                     completed\u001B[38;5;241m=\u001B[39mcompleted_counter,\n\u001B[0;32m    137\u001B[0m                     completed_lock\u001B[38;5;241m=\u001B[39mcompleted_lock,\n\u001B[0;32m    138\u001B[0m                 ),\n\u001B[0;32m    139\u001B[0m                 ranks_to_run,\n\u001B[0;32m    140\u001B[0m             )\n\u001B[0;32m    141\u001B[0m         )\n\u001B[0;32m    142\u001B[0m \u001B[38;5;66;03m# merged stats\u001B[39;00m\n\u001B[0;32m    143\u001B[0m stats \u001B[38;5;241m=\u001B[39m \u001B[38;5;28msum\u001B[39m(stats, start\u001B[38;5;241m=\u001B[39mPipelineStats())\n",
      "File \u001B[1;32m~\\anaconda3\\envs\\memory\\Lib\\site-packages\\multiprocess\\pool.py:873\u001B[0m, in \u001B[0;36mIMapIterator.next\u001B[1;34m(self, timeout)\u001B[0m\n\u001B[0;32m    871\u001B[0m \u001B[38;5;28;01mif\u001B[39;00m success:\n\u001B[0;32m    872\u001B[0m     \u001B[38;5;28;01mreturn\u001B[39;00m value\n\u001B[1;32m--> 873\u001B[0m \u001B[38;5;28;01mraise\u001B[39;00m value\n",
      "\u001B[1;31mUnicodeEncodeError\u001B[0m: 'gbk' codec can't encode character '\\u2022' in position 2417: illegal multibyte sequence"
     ]
    }
   ],
   "execution_count": 1,
   "source": "dataset = dataset.train_test_split(test_size=0.2)",
   "id": "4b692e6d5643f551"
  },
  {
   "metadata": {
    "ExecuteTime": {
     "end_time": "2024-06-05T16:27:28.219143Z",
     "start_time": "2024-06-05T16:27:27.796603Z"
    }
   },
   "cell_type": "code",
   "source": [
    "from transformers import AutoTokenizer\n",
    "tokenizer = AutoTokenizer.from_pretrained(\n",
    "    \"meta-llama/Meta-Llama-3-8B-Instruct\",\n",
    "    cache_dir='/Volumes/Aurora/.cache/huggingface/hub',\n",
    ")\n",
    "\n",
    "def print_tokens_with_ids(txt):\n",
    "    tokens = tokenizer.tokenize(txt, add_special_tokens=False)\n",
    "    token_ids = tokenizer.encode(txt, add_special_tokens=False)\n",
    "    print(list(zip(tokens, token_ids)), end='\\n\\n')\n",
    "\n",
    "prompt = \"\"\"### User: Hello\\n\\n### Assistant: Hi, how can I help you?\"\"\"\n",
    "print_tokens_with_ids(prompt)  # [..., ('▁Hello', 15043), ('<0x0A>', 13), ('<0x0A>', 13), ('##', 2277), ('#', 29937), ('▁Ass', 4007), ('istant', 22137), (':', 29901), ...]\n",
    "\n",
    "response_template = \"### Assistant:\"\n",
    "print_tokens_with_ids(response_template)  # [('▁###', 835), ('▁Ass', 4007), ('istant', 22137), (':', 29901)]"
   ],
   "id": "65182cbcc2709c9a",
   "outputs": [
    {
     "name": "stderr",
     "output_type": "stream",
     "text": [
      "Special tokens have been added in the vocabulary, make sure the associated word embeddings are fine-tuned or trained.\n"
     ]
    },
    {
     "name": "stdout",
     "output_type": "stream",
     "text": [
      "[('###', 14711), ('ĠUser', 2724), (':', 25), ('ĠHello', 22691), ('ĊĊ', 271), ('###', 14711), ('ĠAssistant', 22103), (':', 25), ('ĠHi', 21694), (',', 11), ('Ġhow', 1268), ('Ġcan', 649), ('ĠI', 358), ('Ġhelp', 1520), ('Ġyou', 499), ('?', 30)]\n",
      "\n",
      "[('###', 14711), ('ĠAssistant', 22103), (':', 25)]\n",
      "\n"
     ]
    }
   ],
   "execution_count": 7
  },
  {
   "metadata": {
    "ExecuteTime": {
     "end_time": "2024-06-05T16:36:14.187307Z",
     "start_time": "2024-06-05T16:36:13.843628Z"
    }
   },
   "cell_type": "code",
   "source": [
    "from transformers import AutoTokenizer\n",
    "tokenizer = AutoTokenizer.from_pretrained(\n",
    "    \"meta-llama/Llama-2-7b-hf\",\n",
    "    cache_dir='/Volumes/Aurora/.cache/huggingface/hub',\n",
    ")\n",
    "\n",
    "def print_tokens_with_ids(txt):\n",
    "    tokens = tokenizer.tokenize(txt, add_special_tokens=False)\n",
    "    token_ids = tokenizer.encode(txt, add_special_tokens=False)\n",
    "    print(list(zip(tokens, token_ids)), end='\\n\\n')\n",
    "\n",
    "prompt = \"\"\"### User: Hello\\n\\n### Assistant: Hi, how can I help you?\"\"\"\n",
    "print_tokens_with_ids(prompt)  # [..., ('▁Hello', 15043), ('<0x0A>', 13), ('<0x0A>', 13), ('##', 2277), ('#', 29937), ('▁Ass', 4007), ('istant', 22137), (':', 29901), ...]\n",
    "\n",
    "response_template = \"### Assistant:\"\n",
    "print_tokens_with_ids(response_template)  # [('▁###', 835), ('▁Ass', 4007), ('istant', 22137), (':', 29901)]\n",
    "\n",
    "modified_response_template = \"\\n### Assistant:\"\n",
    "print_tokens_with_ids(modified_response_template)  # [('▁###', 835), ('▁Ass', 4007), ('istant', 22137), (':', 29901)]"
   ],
   "id": "36f811f68424d7e0",
   "outputs": [
    {
     "name": "stdout",
     "output_type": "stream",
     "text": [
      "[('▁###', 835), ('▁User', 4911), (':', 29901), ('▁Hello', 15043), ('<0x0A>', 13), ('<0x0A>', 13), ('##', 2277), ('#', 29937), ('▁Ass', 4007), ('istant', 22137), (':', 29901), ('▁Hi', 6324), (',', 29892), ('▁how', 920), ('▁can', 508), ('▁I', 306), ('▁help', 1371), ('▁you', 366), ('?', 29973)]\n",
      "\n",
      "[('▁###', 835), ('▁Ass', 4007), ('istant', 22137), (':', 29901)]\n",
      "\n",
      "[('▁', 29871), ('<0x0A>', 13), ('##', 2277), ('#', 29937), ('▁Ass', 4007), ('istant', 22137), (':', 29901)]\n",
      "\n"
     ]
    }
   ],
   "execution_count": 10
  },
  {
   "metadata": {},
   "cell_type": "code",
   "outputs": [],
   "execution_count": null,
   "source": "",
   "id": "cd7471b8d53f55ab"
  }
 ],
 "metadata": {
  "kernelspec": {
   "display_name": "Python 3 (ipykernel)",
   "language": "python",
   "name": "python3"
  },
  "language_info": {
   "codemirror_mode": {
    "name": "ipython",
    "version": 3
   },
   "file_extension": ".py",
   "mimetype": "text/x-python",
   "name": "python",
   "nbconvert_exporter": "python",
   "pygments_lexer": "ipython3",
   "version": "3.11.9"
  }
 },
 "nbformat": 4,
 "nbformat_minor": 5
}
