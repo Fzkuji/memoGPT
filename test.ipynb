{
 "cells": [
  {
   "cell_type": "code",
   "execution_count": 10,
   "id": "initial_id",
   "metadata": {
    "collapsed": true,
    "ExecuteTime": {
     "end_time": "2024-05-10T03:28:00.892916Z",
     "start_time": "2024-05-10T03:28:00.882128Z"
    }
   },
   "outputs": [],
   "source": [
    "import torch\n",
    "\n",
    "freqs = torch.tensor([1, 2, 3, 4, 5], dtype=torch.float32)\n",
    "end = 10\n",
    "\n",
    "def precompute_freqs_cis(dim: int, end: int, theta: float = 10000.0):\n",
    "    freqs = 1.0 / (theta ** (torch.arange(0, dim, 2)[: (dim // 2)].float() / dim))\n",
    "    t = torch.arange(end, device=freqs.device, dtype=torch.float32)\n",
    "    freqs = torch.outer(t, freqs)\n",
    "    freqs_cis = torch.polar(torch.ones_like(freqs), freqs)  # complex64\n",
    "    return freqs_cis"
   ]
  },
  {
   "cell_type": "code",
   "outputs": [],
   "source": [
    "freqs_cis = precompute_freqs_cis(10, 10)"
   ],
   "metadata": {
    "collapsed": false,
    "ExecuteTime": {
     "end_time": "2024-05-10T03:28:04.186590Z",
     "start_time": "2024-05-10T03:28:04.181646Z"
    }
   },
   "id": "336d6027c5a4f9b7",
   "execution_count": 11
  },
  {
   "cell_type": "code",
   "outputs": [
    {
     "data": {
      "text/plain": "tensor([[ 1.0000+0.0000e+00j,  1.0000+0.0000e+00j,  1.0000+0.0000e+00j,\n          1.0000+0.0000e+00j,  1.0000+0.0000e+00j],\n        [ 0.5403+8.4147e-01j,  0.9875+1.5783e-01j,  0.9997+2.5116e-02j,\n          1.0000+3.9811e-03j,  1.0000+6.3096e-04j],\n        [-0.4161+9.0930e-01j,  0.9502+3.1170e-01j,  0.9987+5.0217e-02j,\n          1.0000+7.9621e-03j,  1.0000+1.2619e-03j],\n        [-0.9900+1.4112e-01j,  0.8891+4.5775e-01j,  0.9972+7.5285e-02j,\n          0.9999+1.1943e-02j,  1.0000+1.8929e-03j],\n        [-0.6536-7.5680e-01j,  0.8057+5.9234e-01j,  0.9950+1.0031e-01j,\n          0.9999+1.5924e-02j,  1.0000+2.5238e-03j],\n        [ 0.2837-9.5892e-01j,  0.7021+7.1207e-01j,  0.9921+1.2526e-01j,\n          0.9998+1.9904e-02j,  1.0000+3.1548e-03j],\n        [ 0.9602-2.7942e-01j,  0.5809+8.1396e-01j,  0.9887+1.5014e-01j,\n          0.9997+2.3884e-02j,  1.0000+3.7857e-03j],\n        [ 0.7539+6.5699e-01j,  0.4452+8.9544e-01j,  0.9846+1.7493e-01j,\n          0.9996+2.7864e-02j,  1.0000+4.4167e-03j],\n        [-0.1455+9.8936e-01j,  0.2983+9.5448e-01j,  0.9799+1.9960e-01j,\n          0.9995+3.1843e-02j,  1.0000+5.0476e-03j],\n        [-0.9111+4.1212e-01j,  0.1439+9.8959e-01j,  0.9746+2.2415e-01j,\n          0.9994+3.5822e-02j,  1.0000+5.6786e-03j]])"
     },
     "execution_count": 12,
     "metadata": {},
     "output_type": "execute_result"
    }
   ],
   "source": [
    "freqs_cis"
   ],
   "metadata": {
    "collapsed": false,
    "ExecuteTime": {
     "end_time": "2024-05-10T03:28:09.594088Z",
     "start_time": "2024-05-10T03:28:09.588928Z"
    }
   },
   "id": "610db2880a1cd1fb",
   "execution_count": 12
  },
  {
   "cell_type": "code",
   "outputs": [],
   "source": [
    "def precompute_freqs_cis1(ranges: dict, dim: int):\n",
    "    freqs_list = []\n",
    "    for range_, theta in ranges.items():\n",
    "        start, end = range_\n",
    "        freqs = 1.0 / (theta ** (torch.arange(0, dim, 2)[: (dim // 2)].float() / dim))\n",
    "        t = torch.arange(start, end, device=freqs.device, dtype=torch.float32)\n",
    "        freqs = torch.outer(t, freqs)\n",
    "        freqs_cis = torch.polar(torch.ones_like(freqs), freqs)  # complex64\n",
    "        freqs_list.append(freqs_cis)\n",
    "\n",
    "    # Concatenate the frequency tensors along the time dimension\n",
    "    freqs_concatenated = torch.cat(freqs_list, dim=0)\n",
    "    return freqs_concatenated"
   ],
   "metadata": {
    "collapsed": false,
    "ExecuteTime": {
     "end_time": "2024-05-10T03:29:08.179183Z",
     "start_time": "2024-05-10T03:29:08.172009Z"
    }
   },
   "id": "b6689046d1ff86cf",
   "execution_count": 15
  },
  {
   "cell_type": "code",
   "outputs": [],
   "source": [
    "ranges = {(0, 10): 10000}\n",
    "freqs_cis1 = precompute_freqs_cis1(ranges, 10)"
   ],
   "metadata": {
    "collapsed": false,
    "ExecuteTime": {
     "end_time": "2024-05-10T03:29:09.031125Z",
     "start_time": "2024-05-10T03:29:09.026335Z"
    }
   },
   "id": "30d999ea34123578",
   "execution_count": 16
  },
  {
   "cell_type": "code",
   "outputs": [
    {
     "name": "stdout",
     "output_type": "stream",
     "text": [
      "The two methods are equivalent\n"
     ]
    }
   ],
   "source": [
    "if torch.allclose(freqs_cis, freqs_cis1):\n",
    "    print(\"The two methods are equivalent\")\n",
    "else:\n",
    "    print(\"The two methods are not equivalent\")"
   ],
   "metadata": {
    "collapsed": false,
    "ExecuteTime": {
     "end_time": "2024-05-10T03:29:18.360524Z",
     "start_time": "2024-05-10T03:29:18.357028Z"
    }
   },
   "id": "525e521df5265d88",
   "execution_count": 17
  },
  {
   "cell_type": "code",
   "outputs": [],
   "source": [
    "test = [1]\n",
    "test = test * 3"
   ],
   "metadata": {
    "collapsed": false,
    "ExecuteTime": {
     "end_time": "2024-05-10T11:15:22.157824Z",
     "start_time": "2024-05-10T11:15:22.120004Z"
    }
   },
   "id": "fe23097c7552d54c",
   "execution_count": 18
  },
  {
   "cell_type": "code",
   "outputs": [
    {
     "data": {
      "text/plain": "[1, 1, 1]"
     },
     "execution_count": 19,
     "metadata": {},
     "output_type": "execute_result"
    }
   ],
   "source": [
    "test"
   ],
   "metadata": {
    "collapsed": false,
    "ExecuteTime": {
     "end_time": "2024-05-10T11:15:24.423022Z",
     "start_time": "2024-05-10T11:15:24.418061Z"
    }
   },
   "id": "e4169aca2c8fa319",
   "execution_count": 19
  },
  {
   "cell_type": "code",
   "outputs": [],
   "source": [
    "import torch\n",
    "from torch import Tensor\n",
    "def push_to_tensor_alternative(tensor, x):\n",
    "    return torch.cat((tensor[1:], Tensor([x])))"
   ],
   "metadata": {
    "collapsed": false,
    "ExecuteTime": {
     "end_time": "2024-05-10T17:39:38.913516Z",
     "start_time": "2024-05-10T17:39:38.910201Z"
    }
   },
   "id": "c2eaf644ff7efb6a",
   "execution_count": 24
  },
  {
   "cell_type": "code",
   "outputs": [
    {
     "data": {
      "text/plain": "tensor([1., 2., 3., 4.])"
     },
     "execution_count": 25,
     "metadata": {},
     "output_type": "execute_result"
    }
   ],
   "source": [
    "\n",
    "\n",
    "tensor = Tensor([1,2,3,4])\n",
    "tensor"
   ],
   "metadata": {
    "collapsed": false,
    "ExecuteTime": {
     "end_time": "2024-05-10T17:39:39.088630Z",
     "start_time": "2024-05-10T17:39:39.083942Z"
    }
   },
   "id": "65b67092a03fd349",
   "execution_count": 25
  },
  {
   "cell_type": "code",
   "outputs": [
    {
     "data": {
      "text/plain": "tensor([2., 3., 4., 5.])"
     },
     "execution_count": 26,
     "metadata": {},
     "output_type": "execute_result"
    }
   ],
   "source": [
    "tensor = push_to_tensor_alternative(tensor, 5)\n",
    "tensor"
   ],
   "metadata": {
    "collapsed": false,
    "ExecuteTime": {
     "end_time": "2024-05-10T17:39:39.385159Z",
     "start_time": "2024-05-10T17:39:39.381711Z"
    }
   },
   "id": "eed84cf8cdd625e6",
   "execution_count": 26
  },
  {
   "cell_type": "code",
   "outputs": [
    {
     "data": {
      "text/plain": "tensor([3., 4., 5., 6.])"
     },
     "execution_count": 27,
     "metadata": {},
     "output_type": "execute_result"
    }
   ],
   "source": [
    "tensor = push_to_tensor_alternative(tensor, 6)\n",
    "tensor"
   ],
   "metadata": {
    "collapsed": false,
    "ExecuteTime": {
     "end_time": "2024-05-10T17:39:39.790808Z",
     "start_time": "2024-05-10T17:39:39.787020Z"
    }
   },
   "id": "3610ab3374af316d",
   "execution_count": 27
  },
  {
   "cell_type": "code",
   "outputs": [
    {
     "data": {
      "text/plain": "tensor([[[-0.4741, -0.6609],\n         [ 0.1383,  2.2300],\n         [ 0.3952,  0.6535],\n         [ 0.4807,  1.3275],\n         [-0.4744,  2.0742],\n         [-0.7501, -0.2126],\n         [-0.9224,  0.3270],\n         [ 0.1486,  1.0093],\n         [ 0.0469, -2.2629],\n         [ 0.5814, -1.1449]],\n\n        [[-0.3501,  1.3279],\n         [-0.0095,  0.1492],\n         [ 1.0002,  0.2290],\n         [-0.9867,  0.6406],\n         [-0.3176, -0.7281],\n         [-0.9368,  1.0395],\n         [-0.6474,  1.7635],\n         [-0.5570, -0.2907],\n         [ 0.1889, -0.9212],\n         [-0.4432,  0.0905]],\n\n        [[ 0.3901, -0.5778],\n         [ 0.7738, -1.5035],\n         [ 0.7590, -0.9173],\n         [ 0.7240, -0.3338],\n         [ 0.8984, -1.1061],\n         [-1.0088,  0.6361],\n         [-0.5551, -0.5749],\n         [ 0.2005,  0.7975],\n         [-0.0142, -0.5320],\n         [ 0.1507, -0.2634]],\n\n        [[-0.1233, -1.5469],\n         [-1.4706, -0.6459],\n         [ 2.1241, -0.0952],\n         [-1.3966, -0.2660],\n         [ 0.0177,  0.8067],\n         [-1.7155, -0.0193],\n         [-0.3436,  0.7446],\n         [-1.8288, -0.9518],\n         [ 0.1217, -0.5327],\n         [ 0.7590, -0.0670]],\n\n        [[-0.1753, -0.2348],\n         [-1.2385,  1.3527],\n         [ 1.0862,  0.7551],\n         [-0.2628,  1.6032],\n         [ 2.1581, -0.3385],\n         [-0.3125,  0.6754],\n         [-0.3294, -1.2562],\n         [ 0.0207,  0.3031],\n         [ 2.4437,  0.4244],\n         [-0.2463, -0.6987]]])"
     },
     "execution_count": 31,
     "metadata": {},
     "output_type": "execute_result"
    }
   ],
   "source": [
    "queue_k = torch.randn(5, 10, 2)\n",
    "queue_k\n"
   ],
   "metadata": {
    "collapsed": false,
    "ExecuteTime": {
     "end_time": "2024-05-10T18:11:33.785580Z",
     "start_time": "2024-05-10T18:11:33.779942Z"
    }
   },
   "id": "37e4f6b968110bf4",
   "execution_count": 31
  },
  {
   "cell_type": "code",
   "outputs": [
    {
     "ename": "ValueError",
     "evalue": "step must be greater than zero",
     "output_type": "error",
     "traceback": [
      "\u001B[0;31m---------------------------------------------------------------------------\u001B[0m",
      "\u001B[0;31mValueError\u001B[0m                                Traceback (most recent call last)",
      "Cell \u001B[0;32mIn[34], line 1\u001B[0m\n\u001B[0;32m----> 1\u001B[0m \u001B[43mqueue_k\u001B[49m\u001B[43m[\u001B[49m\u001B[43m:\u001B[49m\u001B[43m,\u001B[49m\u001B[43m \u001B[49m\u001B[38;5;241;43m3\u001B[39;49m\u001B[43m:\u001B[49m\u001B[38;5;241;43m1\u001B[39;49m\u001B[43m:\u001B[49m\u001B[38;5;241;43m-\u001B[39;49m\u001B[38;5;241;43m1\u001B[39;49m\u001B[43m,\u001B[49m\u001B[43m \u001B[49m\u001B[43m:\u001B[49m\u001B[43m]\u001B[49m\n",
      "\u001B[0;31mValueError\u001B[0m: step must be greater than zero"
     ]
    }
   ],
   "source": [
    "queue_k[:, 3:1:-1, :]"
   ],
   "metadata": {
    "collapsed": false,
    "ExecuteTime": {
     "end_time": "2024-05-10T18:16:14.255261Z",
     "start_time": "2024-05-10T18:16:14.242840Z"
    }
   },
   "id": "fb85811170e1988b",
   "execution_count": 34
  },
  {
   "cell_type": "code",
   "outputs": [],
   "source": [
    "start = -5\n",
    "end = -1\n",
    "\n",
    "t = torch.arange(start, end, dtype=torch.float32)"
   ],
   "metadata": {
    "collapsed": false,
    "ExecuteTime": {
     "end_time": "2024-05-11T03:56:32.411791Z",
     "start_time": "2024-05-11T03:56:32.408934Z"
    }
   },
   "id": "3a94951992f4c8f1",
   "execution_count": 45
  },
  {
   "cell_type": "code",
   "outputs": [
    {
     "data": {
      "text/plain": "tensor([-5., -4., -3., -2.])"
     },
     "execution_count": 46,
     "metadata": {},
     "output_type": "execute_result"
    }
   ],
   "source": [
    "t"
   ],
   "metadata": {
    "collapsed": false,
    "ExecuteTime": {
     "end_time": "2024-05-11T03:56:32.832828Z",
     "start_time": "2024-05-11T03:56:32.829737Z"
    }
   },
   "id": "5a89cda294096179",
   "execution_count": 46
  },
  {
   "cell_type": "code",
   "outputs": [],
   "source": [
    "fix_t = 2\n",
    "start = 0\n",
    "end = 40\n",
    "\n",
    "t = torch.full((end - start,), fix_t, dtype=torch.float32)"
   ],
   "metadata": {
    "collapsed": false,
    "ExecuteTime": {
     "end_time": "2024-05-11T04:20:29.265137Z",
     "start_time": "2024-05-11T04:20:29.261905Z"
    }
   },
   "id": "951e93940cbb35c6",
   "execution_count": 49
  },
  {
   "cell_type": "code",
   "outputs": [
    {
     "data": {
      "text/plain": "tensor([2., 2., 2., 2., 2., 2., 2., 2., 2., 2., 2., 2., 2., 2., 2., 2., 2., 2.,\n        2., 2., 2., 2., 2., 2., 2., 2., 2., 2., 2., 2., 2., 2., 2., 2., 2., 2.,\n        2., 2., 2., 2.])"
     },
     "execution_count": 50,
     "metadata": {},
     "output_type": "execute_result"
    }
   ],
   "source": [
    "t"
   ],
   "metadata": {
    "collapsed": false,
    "ExecuteTime": {
     "end_time": "2024-05-11T04:20:31.434146Z",
     "start_time": "2024-05-11T04:20:31.429597Z"
    }
   },
   "id": "13be8a751ae04ae3",
   "execution_count": 50
  },
  {
   "cell_type": "code",
   "outputs": [
    {
     "data": {
      "text/plain": "torch.Size([40])"
     },
     "execution_count": 51,
     "metadata": {},
     "output_type": "execute_result"
    }
   ],
   "source": [
    "t.shape"
   ],
   "metadata": {
    "collapsed": false,
    "ExecuteTime": {
     "end_time": "2024-05-11T04:20:37.150144Z",
     "start_time": "2024-05-11T04:20:37.147344Z"
    }
   },
   "id": "70f8db95f159fb0b",
   "execution_count": 51
  },
  {
   "cell_type": "code",
   "outputs": [
    {
     "data": {
      "text/plain": "tensor([[ 1.0000+0.0000j],\n        [ 0.5403+0.8415j],\n        [-0.4161+0.9093j],\n        [-0.9900+0.1411j],\n        [-0.6536-0.7568j],\n        [ 0.2837-0.9589j],\n        [ 0.9602-0.2794j],\n        [ 0.7539+0.6570j],\n        [-0.1455+0.9894j],\n        [-0.9111+0.4121j]])"
     },
     "execution_count": 53,
     "metadata": {},
     "output_type": "execute_result"
    }
   ],
   "source": [
    "def precompute_freqs_cis(dim: int, end: int, theta: float = 10000.0):\n",
    "    freqs = 1.0 / (theta ** (torch.arange(0, dim, 2)[: (dim // 2)].float() / dim))\n",
    "    t = torch.arange(end, device=freqs.device, dtype=torch.float32)\n",
    "    freqs = torch.outer(t, freqs)\n",
    "    freqs_cis = torch.polar(torch.ones_like(freqs), freqs)  # complex64\n",
    "    return freqs_cis\n",
    "\n",
    "a = precompute_freqs_cis(2, 10)\n",
    "a"
   ],
   "metadata": {
    "collapsed": false,
    "ExecuteTime": {
     "end_time": "2024-05-11T06:40:58.186072Z",
     "start_time": "2024-05-11T06:40:58.177215Z"
    }
   },
   "id": "7bb8a5ef76ac2b0",
   "execution_count": 53
  },
  {
   "cell_type": "code",
   "outputs": [],
   "source": [],
   "metadata": {
    "collapsed": false
   },
   "id": "f37267d3136b64ea"
  }
 ],
 "metadata": {
  "kernelspec": {
   "display_name": "Python 3",
   "language": "python",
   "name": "python3"
  },
  "language_info": {
   "codemirror_mode": {
    "name": "ipython",
    "version": 2
   },
   "file_extension": ".py",
   "mimetype": "text/x-python",
   "name": "python",
   "nbconvert_exporter": "python",
   "pygments_lexer": "ipython2",
   "version": "2.7.6"
  }
 },
 "nbformat": 4,
 "nbformat_minor": 5
}
