{
 "cells": [
  {
   "cell_type": "code",
   "execution_count": 10,
   "id": "initial_id",
   "metadata": {
    "collapsed": true,
    "ExecuteTime": {
     "end_time": "2024-05-10T03:28:00.892916Z",
     "start_time": "2024-05-10T03:28:00.882128Z"
    }
   },
   "source": [
    "import torch\n",
    "\n",
    "freqs = torch.tensor([1, 2, 3, 4, 5], dtype=torch.float32)\n",
    "end = 10\n",
    "\n",
    "def precompute_freqs_cis(dim: int, end: int, theta: float = 10000.0):\n",
    "    freqs = 1.0 / (theta ** (torch.arange(0, dim, 2)[: (dim // 2)].float() / dim))\n",
    "    t = torch.arange(end, device=freqs.device, dtype=torch.float32)\n",
    "    freqs = torch.outer(t, freqs)\n",
    "    freqs_cis = torch.polar(torch.ones_like(freqs), freqs)  # complex64\n",
    "    return freqs_cis"
   ],
   "outputs": []
  },
  {
   "cell_type": "code",
   "source": [
    "freqs_cis = precompute_freqs_cis(10, 10)"
   ],
   "metadata": {
    "collapsed": false,
    "ExecuteTime": {
     "end_time": "2024-05-10T03:28:04.186590Z",
     "start_time": "2024-05-10T03:28:04.181646Z"
    }
   },
   "id": "336d6027c5a4f9b7",
   "execution_count": 11,
   "outputs": []
  },
  {
   "cell_type": "code",
   "source": [
    "freqs_cis"
   ],
   "metadata": {
    "collapsed": false,
    "ExecuteTime": {
     "end_time": "2024-05-10T03:28:09.594088Z",
     "start_time": "2024-05-10T03:28:09.588928Z"
    }
   },
   "id": "610db2880a1cd1fb",
   "execution_count": 12,
   "outputs": []
  },
  {
   "cell_type": "code",
   "source": [
    "def precompute_freqs_cis1(ranges: dict, dim: int):\n",
    "    freqs_list = []\n",
    "    for range_, theta in ranges.items():\n",
    "        start, end = range_\n",
    "        freqs = 1.0 / (theta ** (torch.arange(0, dim, 2)[: (dim // 2)].float() / dim))\n",
    "        t = torch.arange(start, end, device=freqs.device, dtype=torch.float32)\n",
    "        freqs = torch.outer(t, freqs)\n",
    "        freqs_cis = torch.polar(torch.ones_like(freqs), freqs)  # complex64\n",
    "        freqs_list.append(freqs_cis)\n",
    "\n",
    "    # Concatenate the frequency tensors along the time dimension\n",
    "    freqs_concatenated = torch.cat(freqs_list, dim=0)\n",
    "    return freqs_concatenated"
   ],
   "metadata": {
    "collapsed": false,
    "ExecuteTime": {
     "end_time": "2024-05-10T03:29:08.179183Z",
     "start_time": "2024-05-10T03:29:08.172009Z"
    }
   },
   "id": "b6689046d1ff86cf",
   "execution_count": 15,
   "outputs": []
  },
  {
   "cell_type": "code",
   "source": [
    "ranges = {(0, 10): 10000}\n",
    "freqs_cis1 = precompute_freqs_cis1(ranges, 10)"
   ],
   "metadata": {
    "collapsed": false,
    "ExecuteTime": {
     "end_time": "2024-05-10T03:29:09.031125Z",
     "start_time": "2024-05-10T03:29:09.026335Z"
    }
   },
   "id": "30d999ea34123578",
   "execution_count": 16,
   "outputs": []
  },
  {
   "cell_type": "code",
   "source": [
    "if torch.allclose(freqs_cis, freqs_cis1):\n",
    "    print(\"The two methods are equivalent\")\n",
    "else:\n",
    "    print(\"The two methods are not equivalent\")"
   ],
   "metadata": {
    "collapsed": false,
    "ExecuteTime": {
     "end_time": "2024-05-10T03:29:18.360524Z",
     "start_time": "2024-05-10T03:29:18.357028Z"
    }
   },
   "id": "525e521df5265d88",
   "execution_count": 17,
   "outputs": []
  },
  {
   "cell_type": "code",
   "source": [
    "test = [1]\n",
    "test = test * 3"
   ],
   "metadata": {
    "collapsed": false,
    "ExecuteTime": {
     "end_time": "2024-05-10T11:15:22.157824Z",
     "start_time": "2024-05-10T11:15:22.120004Z"
    }
   },
   "id": "fe23097c7552d54c",
   "execution_count": 18,
   "outputs": []
  },
  {
   "cell_type": "code",
   "source": [
    "test"
   ],
   "metadata": {
    "collapsed": false,
    "ExecuteTime": {
     "end_time": "2024-05-10T11:15:24.423022Z",
     "start_time": "2024-05-10T11:15:24.418061Z"
    }
   },
   "id": "e4169aca2c8fa319",
   "execution_count": 19,
   "outputs": []
  },
  {
   "cell_type": "code",
   "source": [
    "import torch\n",
    "from torch import Tensor\n",
    "def push_to_tensor_alternative(tensor, x):\n",
    "    return torch.cat((tensor[1:], Tensor([x])))"
   ],
   "metadata": {
    "collapsed": false,
    "ExecuteTime": {
     "end_time": "2024-05-10T17:39:38.913516Z",
     "start_time": "2024-05-10T17:39:38.910201Z"
    }
   },
   "id": "c2eaf644ff7efb6a",
   "execution_count": 24,
   "outputs": []
  },
  {
   "cell_type": "code",
   "source": [
    "\n",
    "\n",
    "tensor = Tensor([1,2,3,4])\n",
    "tensor"
   ],
   "metadata": {
    "collapsed": false,
    "ExecuteTime": {
     "end_time": "2024-05-10T17:39:39.088630Z",
     "start_time": "2024-05-10T17:39:39.083942Z"
    }
   },
   "id": "65b67092a03fd349",
   "execution_count": 25,
   "outputs": []
  },
  {
   "cell_type": "code",
   "source": [
    "tensor = push_to_tensor_alternative(tensor, 5)\n",
    "tensor"
   ],
   "metadata": {
    "collapsed": false,
    "ExecuteTime": {
     "end_time": "2024-05-10T17:39:39.385159Z",
     "start_time": "2024-05-10T17:39:39.381711Z"
    }
   },
   "id": "eed84cf8cdd625e6",
   "execution_count": 26,
   "outputs": []
  },
  {
   "cell_type": "code",
   "source": [
    "tensor = push_to_tensor_alternative(tensor, 6)\n",
    "tensor"
   ],
   "metadata": {
    "collapsed": false,
    "ExecuteTime": {
     "end_time": "2024-05-10T17:39:39.790808Z",
     "start_time": "2024-05-10T17:39:39.787020Z"
    }
   },
   "id": "3610ab3374af316d",
   "execution_count": 27,
   "outputs": []
  },
  {
   "cell_type": "code",
   "source": [
    "queue_k = torch.randn(5, 10, 2)\n",
    "queue_k\n"
   ],
   "metadata": {
    "collapsed": false,
    "ExecuteTime": {
     "end_time": "2024-05-10T18:11:33.785580Z",
     "start_time": "2024-05-10T18:11:33.779942Z"
    }
   },
   "id": "37e4f6b968110bf4",
   "execution_count": 31,
   "outputs": []
  },
  {
   "cell_type": "code",
   "source": [
    "queue_k[:, 3:1:-1, :]"
   ],
   "metadata": {
    "collapsed": false,
    "ExecuteTime": {
     "end_time": "2024-05-10T18:16:14.255261Z",
     "start_time": "2024-05-10T18:16:14.242840Z"
    }
   },
   "id": "fb85811170e1988b",
   "execution_count": 34,
   "outputs": []
  },
  {
   "cell_type": "code",
   "source": [
    "start = -5\n",
    "end = -1\n",
    "\n",
    "t = torch.arange(start, end, dtype=torch.float32)"
   ],
   "metadata": {
    "collapsed": false,
    "ExecuteTime": {
     "end_time": "2024-05-11T03:56:32.411791Z",
     "start_time": "2024-05-11T03:56:32.408934Z"
    }
   },
   "id": "3a94951992f4c8f1",
   "execution_count": 45,
   "outputs": []
  },
  {
   "cell_type": "code",
   "source": [
    "t"
   ],
   "metadata": {
    "collapsed": false,
    "ExecuteTime": {
     "end_time": "2024-05-11T03:56:32.832828Z",
     "start_time": "2024-05-11T03:56:32.829737Z"
    }
   },
   "id": "5a89cda294096179",
   "execution_count": 46,
   "outputs": []
  },
  {
   "cell_type": "code",
   "source": [
    "fix_t = 2\n",
    "start = 0\n",
    "end = 40\n",
    "\n",
    "t = torch.full((end - start,), fix_t, dtype=torch.float32)"
   ],
   "metadata": {
    "collapsed": false,
    "ExecuteTime": {
     "end_time": "2024-05-11T04:20:29.265137Z",
     "start_time": "2024-05-11T04:20:29.261905Z"
    }
   },
   "id": "951e93940cbb35c6",
   "execution_count": 49,
   "outputs": []
  },
  {
   "cell_type": "code",
   "source": [
    "t"
   ],
   "metadata": {
    "collapsed": false,
    "ExecuteTime": {
     "end_time": "2024-05-11T04:20:31.434146Z",
     "start_time": "2024-05-11T04:20:31.429597Z"
    }
   },
   "id": "13be8a751ae04ae3",
   "execution_count": 50,
   "outputs": []
  },
  {
   "cell_type": "code",
   "source": [
    "t.shape"
   ],
   "metadata": {
    "collapsed": false,
    "ExecuteTime": {
     "end_time": "2024-05-11T04:20:37.150144Z",
     "start_time": "2024-05-11T04:20:37.147344Z"
    }
   },
   "id": "70f8db95f159fb0b",
   "execution_count": 51,
   "outputs": []
  },
  {
   "cell_type": "code",
   "source": [
    "def precompute_freqs_cis(dim: int, end: int, theta: float = 10000.0):\n",
    "    freqs = 1.0 / (theta ** (torch.arange(0, dim, 2)[: (dim // 2)].float() / dim))\n",
    "    t = torch.arange(end, device=freqs.device, dtype=torch.float32)\n",
    "    freqs = torch.outer(t, freqs)\n",
    "    freqs_cis = torch.polar(torch.ones_like(freqs), freqs)  # complex64\n",
    "    return freqs_cis\n",
    "\n",
    "a = precompute_freqs_cis(2, 10)\n",
    "a"
   ],
   "metadata": {
    "collapsed": false,
    "ExecuteTime": {
     "end_time": "2024-05-11T06:40:58.186072Z",
     "start_time": "2024-05-11T06:40:58.177215Z"
    }
   },
   "id": "7bb8a5ef76ac2b0",
   "execution_count": 53,
   "outputs": []
  },
  {
   "cell_type": "code",
   "source": [],
   "metadata": {
    "collapsed": false
   },
   "id": "f37267d3136b64ea",
   "execution_count": null,
   "outputs": []
  }
 ],
 "metadata": {
  "kernelspec": {
   "display_name": "Python 3",
   "language": "python",
   "name": "python3"
  },
  "language_info": {
   "codemirror_mode": {
    "name": "ipython",
    "version": 2
   },
   "file_extension": ".py",
   "mimetype": "text/x-python",
   "name": "python",
   "nbconvert_exporter": "python",
   "pygments_lexer": "ipython2",
   "version": "2.7.6"
  }
 },
 "nbformat": 4,
 "nbformat_minor": 5
}
